{
 "cells": [
  {
   "cell_type": "markdown",
   "id": "quantitative-decimal",
   "metadata": {},
   "source": [
    "# Environmental Variables"
   ]
  },
  {
   "cell_type": "markdown",
   "id": "fourth-child",
   "metadata": {},
   "source": [
    "### Introduction"
   ]
  },
  {
   "cell_type": "markdown",
   "id": "fleet-setting",
   "metadata": {},
   "source": [
    "In this lesson, we'll discuss how to use Kubernetes to set environmental variables.  As we'll see, we can set environmental variables directly from our config files.  Let's get started."
   ]
  },
  {
   "cell_type": "markdown",
   "id": "italian-noise",
   "metadata": {},
   "source": [
    "### Environmental Variables"
   ]
  },
  {
   "cell_type": "markdown",
   "id": "checked-judgment",
   "metadata": {},
   "source": [
    "In Kubernetes, we can specify environmental variables in our config file, and the variables will be directly available in the specified image.  For example, take a look at the bottom of the config file below."
   ]
  },
  {
   "cell_type": "markdown",
   "id": "extensive-supply",
   "metadata": {},
   "source": [
    "```yaml\n",
    "apiVersion: apps/v1\n",
    "kind: Deployment\n",
    "metadata:\n",
    "  name: backend-deployment\n",
    "spec:\n",
    "  replicas: 2\n",
    "  selector:\n",
    "    matchLabels:\n",
    "      component: backend\n",
    "  template:\n",
    "    metadata:\n",
    "      labels:\n",
    "        component: backend\n",
    "    spec:\n",
    "      containers:\n",
    "        - name: backend-api\n",
    "          image: jek2141/apartments_api:v4\n",
    "          ports:\n",
    "          - containerPort: 5000\n",
    "          env:\n",
    "              name: DATABASE_URL\n",
    "              value: http://postgres\n",
    "```"
   ]
  },
  {
   "cell_type": "markdown",
   "id": "royal-engineer",
   "metadata": {},
   "source": [
    "So our config file is the standard file for creating a deployment, but this time, if we exec into one of the `backend-api` pods, we can acess the environmental variable."
   ]
  },
  {
   "cell_type": "markdown",
   "id": "intensive-hacker",
   "metadata": {},
   "source": [
    "<img src=\"./db_url.png\" width=\"40%\">"
   ]
  },
  {
   "cell_type": "markdown",
   "id": "dramatic-triple",
   "metadata": {},
   "source": [
    "And if we want to reference this environmental variable in our Flask application, we can use a bit of Python."
   ]
  },
  {
   "cell_type": "markdown",
   "id": "purple-provider",
   "metadata": {},
   "source": [
    "```python\n",
    "import os\n",
    "os.environ.get('DATABASE_URL')\n",
    "\n",
    "# 'http://postgres'\n",
    "```"
   ]
  },
  {
   "cell_type": "markdown",
   "id": "fatty-myrtle",
   "metadata": {},
   "source": [
    "### Using a ConfigMap"
   ]
  },
  {
   "cell_type": "markdown",
   "id": "harmful-irrigation",
   "metadata": {},
   "source": [
    "Now oftentimes we may want to provide *the same* environmental variable in multiple, different resources.  For example, with the environmental variable for our database url, we may wish to have the backend application reference the url (as we do above), and also have a reference the database in a separate resource that say loads data into the database.\n",
    "\n",
    "Under our current mechanism, we would have to specify the environmental variable hardcoded in each deployment, and if we were up to update this database url, would need to make these updates in multiple locations.  \n",
    "\n",
    "To avoid managing *the same variable* across multiple configuration files, kubernetes provides us with a separate object called a `configMap`.  Let's see how it works.  First we add the following yaml to a new file."
   ]
  },
  {
   "cell_type": "markdown",
   "id": "whole-horizontal",
   "metadata": {},
   "source": [
    "```yaml\n",
    "# configmap.yaml\n",
    "\n",
    "apiVersion: v1\n",
    "kind: ConfigMap\n",
    "metadata:\n",
    "  name: database-config\n",
    "  namespace: default\n",
    "data:\n",
    "  postgres_db_url: 'http://postgres'\n",
    "```"
   ]
  },
  {
   "cell_type": "markdown",
   "id": "effective-parameter",
   "metadata": {},
   "source": [
    "> So the above has a key of `postgres_db_url` set to the value of our url."
   ]
  },
  {
   "cell_type": "markdown",
   "id": "southern-ownership",
   "metadata": {},
   "source": [
    "And we can apply this file to create a new object with the following: `kubectl apply -f configmap.yaml`.  And from there we can check our work:"
   ]
  },
  {
   "cell_type": "markdown",
   "id": "united-colorado",
   "metadata": {},
   "source": [
    "> <img src=\"./created_configmap.png\" width=\"60%\">"
   ]
  },
  {
   "cell_type": "markdown",
   "id": "regulation-knitting",
   "metadata": {},
   "source": [
    "Next, we can reference the values from our newly created `database-config` in our deployment configuration file.  To accomplish this, we'll update the deployment config file like so:"
   ]
  },
  {
   "cell_type": "markdown",
   "id": "knowing-accreditation",
   "metadata": {},
   "source": [
    "```yaml\n",
    "spec:\n",
    "      containers:\n",
    "        - name: backend-api\n",
    "          image: jek2141/apartments_api:v4\n",
    "          ports:\n",
    "          - containerPort: 5000\n",
    "          env:\n",
    "              name: DATABASE_URL\n",
    "              valueFrom:\n",
    "                  configMapKeyRef: \n",
    "                      name: database-config\n",
    "                      key: postgres_db_url\n",
    "```"
   ]
  },
  {
   "cell_type": "markdown",
   "id": "opposite-synthetic",
   "metadata": {},
   "source": [
    "So notice that we are replaccing the `value` key, with the `valueFrom` key.  Then under the `configMapKeyRef` key, we need to specify the name and key of the configMap that we are referencing.  And if we apply our deployment file and `sh` into the shell, we can see that we still have working code.  "
   ]
  },
  {
   "cell_type": "markdown",
   "id": "realistic-telephone",
   "metadata": {},
   "source": [
    "So the configMap is just a bit more indirect than using an environmental variable.  A configMap allows us to specify environmental variables that we can reference throughout our cluster."
   ]
  },
  {
   "cell_type": "markdown",
   "id": "sticky-plastic",
   "metadata": {},
   "source": [
    "### Secrets"
   ]
  },
  {
   "cell_type": "markdown",
   "id": "chronic-synthesis",
   "metadata": {},
   "source": [
    "There is another object that we can use to create an environmental variable and that is a secret."
   ]
  },
  {
   "cell_type": "markdown",
   "id": "developmental-balance",
   "metadata": {},
   "source": [
    "```yaml\n",
    "# secrets.yaml\n",
    "\n",
    "apiVersion: v1\n",
    "kind: Secret\n",
    "metadata:\n",
    "    name: postgres-credentials\n",
    "stringData:\n",
    "    postgres_password: \"SECRET123\"\n",
    "```"
   ]
  },
  {
   "cell_type": "markdown",
   "id": "descending-theorem",
   "metadata": {},
   "source": [
    "Let's begin by creating a new secrets object."
   ]
  },
  {
   "cell_type": "markdown",
   "id": "unable-gregory",
   "metadata": {},
   "source": [
    "`kubectl apply -f secrets.yaml`"
   ]
  },
  {
   "cell_type": "markdown",
   "id": "lovely-reward",
   "metadata": {},
   "source": [
    "And then we reference data from our secrets object, similarly to referencing it from a configMap object. "
   ]
  },
  {
   "cell_type": "markdown",
   "id": "invalid-issue",
   "metadata": {},
   "source": [
    "```yaml\n",
    "env: \n",
    "    - name: DATABASE_PASSWORD\n",
    "            valueFrom:\n",
    "              secretKeyRef:\n",
    "                name: postgres-credentials\n",
    "                key: postgres_password\n",
    "```"
   ]
  },
  {
   "cell_type": "markdown",
   "id": "seasonal-assembly",
   "metadata": {},
   "source": [
    "> So here, we just reference the secret with the `secretKeyRef` key."
   ]
  },
  {
   "cell_type": "markdown",
   "id": "herbal-duncan",
   "metadata": {},
   "source": [
    "So let's apply the changes and now see if we can access the `DATABASE_PASSWORD` as an environmental variable."
   ]
  },
  {
   "cell_type": "markdown",
   "id": "norwegian-wallace",
   "metadata": {},
   "source": [
    "<img src=\"./db_password.png\" width=\"60%\">"
   ]
  },
  {
   "cell_type": "markdown",
   "id": "destroyed-soldier",
   "metadata": {},
   "source": [
    "Ok looks good."
   ]
  },
  {
   "cell_type": "markdown",
   "id": "tender-italic",
   "metadata": {},
   "source": [
    "So what was the point of using a secret?  Well notice that now if we look to describe our secret object, the information is obscured."
   ]
  },
  {
   "cell_type": "markdown",
   "id": "useful-radius",
   "metadata": {},
   "source": [
    "> <img src=\"./postgres_secret.png\" width=\"60%\">"
   ]
  },
  {
   "cell_type": "markdown",
   "id": "worse-latest",
   "metadata": {},
   "source": [
    "So unlike with our configMap, we cannot see the value of secret simply by describing the object."
   ]
  },
  {
   "cell_type": "markdown",
   "id": "altered-oliver",
   "metadata": {},
   "source": [
    "### Summary"
   ]
  },
  {
   "cell_type": "markdown",
   "id": "prescription-springfield",
   "metadata": {},
   "source": [
    "In this lesson, we learned how to use Kubernetes to manage our environmental variables.\n",
    "```yaml\n",
    "# deployment.yaml\n",
    "spec:\n",
    "      containers:\n",
    "        - name: backend-api\n",
    "          image: jek2141/apartments_api:v4\n",
    "          ports:\n",
    "          - containerPort: 5000\n",
    "          env:\n",
    "              name: DATABASE_URL\n",
    "              value: http://postgres\n",
    "```"
   ]
  },
  {
   "cell_type": "markdown",
   "id": "polar-hungary",
   "metadata": {},
   "source": [
    "And we saw that if we want to manage these variables across multiple resources, we can first create a ConfigMap like we do below."
   ]
  },
  {
   "cell_type": "markdown",
   "id": "cooked-carroll",
   "metadata": {},
   "source": [
    "```yaml\n",
    "# configmap.yaml\n",
    "apiVersion: v1\n",
    "kind: ConfigMap\n",
    "metadata:\n",
    "  name: database-config\n",
    "  namespace: default\n",
    "data:\n",
    "  postgres_db_url: 'http://postgres'\n",
    "```"
   ]
  },
  {
   "cell_type": "markdown",
   "id": "hazardous-address",
   "metadata": {},
   "source": [
    "And then reference the ConfigMap in the environmental variable with the ConfigMapKeyRef."
   ]
  },
  {
   "cell_type": "markdown",
   "id": "authorized-princess",
   "metadata": {},
   "source": [
    "```yaml\n",
    "# deployment.yaml\n",
    "env:\n",
    "  name: DATABASE_URL\n",
    "  valueFrom:\n",
    "      configMapKeyRef: \n",
    "          name: database-config\n",
    "          key: postgres_db_url\n",
    "```"
   ]
  },
  {
   "cell_type": "markdown",
   "id": "overall-jersey",
   "metadata": {},
   "source": [
    "So above, we do not directly store the database value, but rather reference it from the database-config.  Finally we saw that we can also use a secret if we wish to obscure the environmental variable value."
   ]
  },
  {
   "cell_type": "markdown",
   "id": "intensive-boring",
   "metadata": {},
   "source": [
    "```yaml\n",
    "# secrets.yaml\n",
    "\n",
    "apiVersion: v1\n",
    "kind: Secret\n",
    "metadata:\n",
    "    name: postgres-credentials\n",
    "stringData:\n",
    "    postgres_password: \"SECRET123\"\n",
    "```"
   ]
  },
  {
   "cell_type": "markdown",
   "id": "palestinian-dylan",
   "metadata": {},
   "source": [
    "And can then again reference the environmental variable from the deployment config file, this time with the `secretKeyRef` value."
   ]
  },
  {
   "cell_type": "markdown",
   "id": "coral-tracker",
   "metadata": {},
   "source": [
    "```yaml\n",
    "- name: DATABASE_PASSWORD\n",
    "    valueFrom:\n",
    "      secretKeyRef:\n",
    "        name: postgres-credentials\n",
    "        key: postgres_password\n",
    "```"
   ]
  }
 ],
 "metadata": {
  "kernelspec": {
   "display_name": "Python 3",
   "language": "python",
   "name": "python3"
  },
  "language_info": {
   "codemirror_mode": {
    "name": "ipython",
    "version": 3
   },
   "file_extension": ".py",
   "mimetype": "text/x-python",
   "name": "python",
   "nbconvert_exporter": "python",
   "pygments_lexer": "ipython3",
   "version": "3.8.6"
  }
 },
 "nbformat": 4,
 "nbformat_minor": 5
}
