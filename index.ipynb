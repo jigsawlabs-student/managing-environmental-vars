{
 "cells": [
  {
   "cell_type": "markdown",
   "id": "demonstrated-firewall",
   "metadata": {},
   "source": [
    "# Environmental Variables"
   ]
  },
  {
   "cell_type": "markdown",
   "id": "specified-equality",
   "metadata": {},
   "source": [
    "### Introduction"
   ]
  },
  {
   "cell_type": "markdown",
   "id": "environmental-waste",
   "metadata": {},
   "source": [
    "In this lesson, we'll discuss how to use Kubernetes to set environmental variables.  As we'll see, we can set environmental variables directly from our config files.  Let's get started."
   ]
  },
  {
   "cell_type": "markdown",
   "id": "bottom-collapse",
   "metadata": {},
   "source": [
    "### Environmental Variables"
   ]
  },
  {
   "cell_type": "markdown",
   "id": "minus-basket",
   "metadata": {},
   "source": [
    "we can specify an environmental variable in our config file, and they will directly be available in the specified image.  For example, take a look at the bottom of the config file below."
   ]
  },
  {
   "cell_type": "markdown",
   "id": "literary-cotton",
   "metadata": {},
   "source": [
    "```yaml\n",
    "apiVersion: apps/v1\n",
    "kind: Deployment\n",
    "metadata:\n",
    "  name: backend-deployment\n",
    "spec:\n",
    "  replicas: 2\n",
    "  selector:\n",
    "    matchLabels:\n",
    "      component: backend\n",
    "  template:\n",
    "    metadata:\n",
    "      labels:\n",
    "        component: backend\n",
    "    spec:\n",
    "      containers:\n",
    "        - name: backend-api\n",
    "          image: jek2141/apartments_api:v4\n",
    "          ports:\n",
    "          - containerPort: 5000\n",
    "          env:\n",
    "              name: DATABASE_URL\n",
    "              value: http://postgres\n",
    "```"
   ]
  },
  {
   "cell_type": "markdown",
   "id": "happy-brain",
   "metadata": {},
   "source": [
    "And this means that if we now exec into one of our backend-api pods, we can access that environmental variable."
   ]
  },
  {
   "cell_type": "markdown",
   "id": "brown-petersburg",
   "metadata": {},
   "source": [
    "<img src=\"./db_url.png\" width=\"40%\">"
   ]
  },
  {
   "cell_type": "markdown",
   "id": "premier-collar",
   "metadata": {},
   "source": [
    "Which we can always access from Python with a little help."
   ]
  },
  {
   "cell_type": "markdown",
   "id": "musical-norway",
   "metadata": {},
   "source": [
    "```python\n",
    "import os\n",
    "os.environ.get('DATABASE_URL')\n",
    "\n",
    "# 'http://postgres'\n",
    "```"
   ]
  },
  {
   "cell_type": "markdown",
   "id": "heavy-harmony",
   "metadata": {},
   "source": [
    "### Using a ConfigMap"
   ]
  },
  {
   "cell_type": "markdown",
   "id": "occupied-midwest",
   "metadata": {},
   "source": [
    "Now oftentime this configuration like a database url is something that we may need to reference throughout multiple deployments in our cluster.  Under our current mechanism, we would have to specify the keys and values for each deployment, and if we were up to update this database url, would need to make these updates in multiple locations.  \n",
    "\n",
    "To avoid managing the same variable across multiple configuration files, kubernetes provides us with a separate object called a configMap.  Let's see how it works.  First we add the following yaml to a new file."
   ]
  },
  {
   "cell_type": "markdown",
   "id": "smooth-blake",
   "metadata": {},
   "source": [
    "```yaml\n",
    "# configmap.yaml\n",
    "\n",
    "apiVersion: v1\n",
    "kind: ConfigMap\n",
    "metadata:\n",
    "  name: database-config\n",
    "  namespace: default\n",
    "data:\n",
    "  postgres_db_url: 'http://postgres'\n",
    "```"
   ]
  },
  {
   "cell_type": "markdown",
   "id": "incredible-simulation",
   "metadata": {},
   "source": [
    "And we can apply this file to create a new object with the following: `kubectl apply -f configmap.yaml`.  And from there we can check our work:"
   ]
  },
  {
   "cell_type": "markdown",
   "id": "voluntary-november",
   "metadata": {},
   "source": [
    "> <img src=\"./created_configmap.png\" width=\"60%\">"
   ]
  },
  {
   "cell_type": "markdown",
   "id": "retired-exploration",
   "metadata": {},
   "source": [
    "Next, we'll need to reference the values from our `database-config` in our deployment configuration file.  To accomplish this, we'll update the deployment config file like so:"
   ]
  },
  {
   "cell_type": "markdown",
   "id": "floating-engine",
   "metadata": {},
   "source": [
    "```yaml\n",
    "spec:\n",
    "      containers:\n",
    "        - name: backend-api\n",
    "          image: jek2141/apartments_api:v4\n",
    "          ports:\n",
    "          - containerPort: 5000\n",
    "          env:\n",
    "              name: DATABASE_URL\n",
    "              valueFrom:\n",
    "                  configMapKeyRef: \n",
    "                      name: database-config\n",
    "                      key: postgres_db_url\n",
    "```"
   ]
  },
  {
   "cell_type": "markdown",
   "id": "checked-repair",
   "metadata": {},
   "source": [
    "So notice that we are replaccing the `value` key, with the `valueFrom` key.  Then under the `configMapKeyRef` key, we need to specify the name and key of the configMap that we are referencing.  And if we apply our deployment file and `sh` into the shell, we can see that we still have working code.  "
   ]
  },
  {
   "cell_type": "markdown",
   "id": "impressed-stuff",
   "metadata": {},
   "source": [
    "So the configMap is just a bit more indirect than using an environmental variable.  A configMap allows us to specify environmental variables that we can reference throughout our cluster."
   ]
  },
  {
   "cell_type": "markdown",
   "id": "personal-assist",
   "metadata": {},
   "source": [
    "### Secrets"
   ]
  },
  {
   "cell_type": "markdown",
   "id": "electronic-biography",
   "metadata": {},
   "source": [
    "There is another object that we can use to create an environmental variable and that is a secret."
   ]
  },
  {
   "cell_type": "markdown",
   "id": "visible-brunswick",
   "metadata": {},
   "source": [
    "```yaml\n",
    "# secrets.yaml\n",
    "\n",
    "apiVersion: v1\n",
    "kind: Secret\n",
    "metadata:\n",
    "    name: postgres-credentials\n",
    "stringData:\n",
    "    postgres_password: \"SECRET123\"\n",
    "```"
   ]
  },
  {
   "cell_type": "markdown",
   "id": "broadband-luther",
   "metadata": {},
   "source": [
    "Let's begin by creating a new secrets object."
   ]
  },
  {
   "cell_type": "markdown",
   "id": "political-insurance",
   "metadata": {},
   "source": [
    "`kubectl apply -f secrets.yaml`"
   ]
  },
  {
   "cell_type": "markdown",
   "id": "technological-organization",
   "metadata": {},
   "source": [
    "And referencing data from a secrets object is similar to referencing it from a secrets object. "
   ]
  },
  {
   "cell_type": "markdown",
   "id": "smart-stockholm",
   "metadata": {},
   "source": [
    "```yaml\n",
    "env: \n",
    "    - name: DATABASE_PASSWORD\n",
    "            valueFrom:\n",
    "              secretKeyRef:\n",
    "                name: postgres-credentials\n",
    "                key: postgres_password\n",
    "```"
   ]
  },
  {
   "cell_type": "markdown",
   "id": "bulgarian-motel",
   "metadata": {},
   "source": [
    "So let's apply the changes and now see if we can access the `DATABASE_PASSWORD` as an environmental variable."
   ]
  },
  {
   "cell_type": "markdown",
   "id": "pediatric-liberia",
   "metadata": {},
   "source": [
    "<img src=\"./db_password.png\" width=\"60%\">"
   ]
  },
  {
   "cell_type": "markdown",
   "id": "expected-insertion",
   "metadata": {},
   "source": [
    "Ok looks good."
   ]
  },
  {
   "cell_type": "markdown",
   "id": "joint-announcement",
   "metadata": {},
   "source": [
    "So what was the point of using a secret?  Well notice that now if we look to describe our secret object, the information is obscured."
   ]
  },
  {
   "cell_type": "markdown",
   "id": "changing-account",
   "metadata": {},
   "source": [
    "> <img src=\"./postgres_secret.png\" width=\"60%\">"
   ]
  },
  {
   "cell_type": "markdown",
   "id": "trying-marsh",
   "metadata": {},
   "source": [
    "So unlike with our configMap, we cannot see the value of secret simply by describing the object."
   ]
  },
  {
   "cell_type": "markdown",
   "id": "proper-egyptian",
   "metadata": {},
   "source": [
    "### Summary"
   ]
  },
  {
   "cell_type": "markdown",
   "id": "spiritual-branch",
   "metadata": {},
   "source": [
    "In this lesson, we learned how to use Kubernetes to manage our environmental variables.\n",
    "```yaml\n",
    "# deployment.yaml\n",
    "spec:\n",
    "      containers:\n",
    "        - name: backend-api\n",
    "          image: jek2141/apartments_api:v4\n",
    "          ports:\n",
    "          - containerPort: 5000\n",
    "          env:\n",
    "              name: DATABASE_URL\n",
    "              value: http://postgres\n",
    "```"
   ]
  },
  {
   "cell_type": "markdown",
   "id": "entire-method",
   "metadata": {},
   "source": [
    "And we saw that if we want to manage these variables across multiple resources, we can first create a ConfigMap like we do below."
   ]
  },
  {
   "cell_type": "markdown",
   "id": "innovative-canvas",
   "metadata": {},
   "source": [
    "```yaml\n",
    "# configmap.yaml\n",
    "apiVersion: v1\n",
    "kind: ConfigMap\n",
    "metadata:\n",
    "  name: database-config\n",
    "  namespace: default\n",
    "data:\n",
    "  postgres_db_url: 'http://postgres'\n",
    "```"
   ]
  },
  {
   "cell_type": "markdown",
   "id": "injured-theta",
   "metadata": {},
   "source": [
    "And then reference the ConfigMap in the environmental variable with the ConfigMapKeyRef."
   ]
  },
  {
   "cell_type": "markdown",
   "id": "transparent-binary",
   "metadata": {},
   "source": [
    "```yaml\n",
    "# deployment.yaml\n",
    "env:\n",
    "  name: DATABASE_URL\n",
    "  valueFrom:\n",
    "      configMapKeyRef: \n",
    "          name: database-config\n",
    "          key: postgres_db_url\n",
    "```"
   ]
  },
  {
   "cell_type": "markdown",
   "id": "grave-robert",
   "metadata": {},
   "source": [
    "So above, we do not directly store the database value, but rather reference it from the database-config.  Finally we saw that we can also use a secret if we wish to obscure the environmental variable value."
   ]
  },
  {
   "cell_type": "markdown",
   "id": "independent-factor",
   "metadata": {},
   "source": [
    "```yaml\n",
    "# secrets.yaml\n",
    "\n",
    "apiVersion: v1\n",
    "kind: Secret\n",
    "metadata:\n",
    "    name: postgres-credentials\n",
    "stringData:\n",
    "    postgres_password: \"SECRET123\"\n",
    "```"
   ]
  },
  {
   "cell_type": "markdown",
   "id": "silent-clone",
   "metadata": {},
   "source": [
    "And can then again reference the environmental variable from the deployment config file, this time with the `secretKeyRef` value."
   ]
  },
  {
   "cell_type": "markdown",
   "id": "patient-mexico",
   "metadata": {},
   "source": [
    "```yaml\n",
    "- name: DATABASE_PASSWORD\n",
    "    valueFrom:\n",
    "      secretKeyRef:\n",
    "        name: postgres-credentials\n",
    "        key: postgres_password\n",
    "```"
   ]
  }
 ],
 "metadata": {
  "kernelspec": {
   "display_name": "Python 3",
   "language": "python",
   "name": "python3"
  },
  "language_info": {
   "codemirror_mode": {
    "name": "ipython",
    "version": 3
   },
   "file_extension": ".py",
   "mimetype": "text/x-python",
   "name": "python",
   "nbconvert_exporter": "python",
   "pygments_lexer": "ipython3",
   "version": "3.8.6"
  }
 },
 "nbformat": 4,
 "nbformat_minor": 5
}
